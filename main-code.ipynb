{
 "cells": [
  {
   "cell_type": "markdown",
   "id": "91944a04",
   "metadata": {},
   "source": [
    "# Estudio de los ataques de tiburones entre los años comprendidos entre el 1721 y el 2018."
   ]
  },
  {
   "cell_type": "markdown",
   "id": "503fa921",
   "metadata": {},
   "source": [
    "## Queremos ver si hay más casos de ataques según la especie y analizar cuántos de esos ataques han resultado fatales. \n",
    "## Además veremos el tipo de ataque y si hay alguno que sucede con más frecuencia. "
   ]
  },
  {
   "cell_type": "code",
   "execution_count": 1,
   "id": "a947febb",
   "metadata": {},
   "outputs": [],
   "source": [
    "import pandas as pd\n",
    "import numpy as np"
   ]
  },
  {
   "cell_type": "code",
   "execution_count": 2,
   "id": "d589bde1",
   "metadata": {},
   "outputs": [],
   "source": [
    "data_ori=pd.read_csv('/Users/mar/data/Proyecto-Shark-Mar-S-nchez-de-Salas/Dataset_proyecto_Sharks/datashark.csv', sep=',', encoding='latin-1')"
   ]
  },
  {
   "cell_type": "code",
   "execution_count": 3,
   "id": "c831dc38",
   "metadata": {},
   "outputs": [
    {
     "data": {
      "text/html": [
       "<div>\n",
       "<style scoped>\n",
       "    .dataframe tbody tr th:only-of-type {\n",
       "        vertical-align: middle;\n",
       "    }\n",
       "\n",
       "    .dataframe tbody tr th {\n",
       "        vertical-align: top;\n",
       "    }\n",
       "\n",
       "    .dataframe thead th {\n",
       "        text-align: right;\n",
       "    }\n",
       "</style>\n",
       "<table border=\"1\" class=\"dataframe\">\n",
       "  <thead>\n",
       "    <tr style=\"text-align: right;\">\n",
       "      <th></th>\n",
       "      <th>Case Number</th>\n",
       "      <th>Date</th>\n",
       "      <th>Year</th>\n",
       "      <th>Type</th>\n",
       "      <th>Country</th>\n",
       "      <th>Area</th>\n",
       "      <th>Location</th>\n",
       "      <th>Activity</th>\n",
       "      <th>Name</th>\n",
       "      <th>Sex</th>\n",
       "      <th>...</th>\n",
       "      <th>Species</th>\n",
       "      <th>Investigator or Source</th>\n",
       "      <th>pdf</th>\n",
       "      <th>href formula</th>\n",
       "      <th>href</th>\n",
       "      <th>Case Number.1</th>\n",
       "      <th>Case Number.2</th>\n",
       "      <th>original order</th>\n",
       "      <th>Unnamed: 22</th>\n",
       "      <th>Unnamed: 23</th>\n",
       "    </tr>\n",
       "  </thead>\n",
       "  <tbody>\n",
       "    <tr>\n",
       "      <th>0</th>\n",
       "      <td>2018.06.25</td>\n",
       "      <td>25-Jun-2018</td>\n",
       "      <td>2018.0</td>\n",
       "      <td>Boating</td>\n",
       "      <td>USA</td>\n",
       "      <td>California</td>\n",
       "      <td>Oceanside, San Diego County</td>\n",
       "      <td>Paddling</td>\n",
       "      <td>Julie Wolfe</td>\n",
       "      <td>F</td>\n",
       "      <td>...</td>\n",
       "      <td>White shark</td>\n",
       "      <td>R. Collier, GSAF</td>\n",
       "      <td>2018.06.25-Wolfe.pdf</td>\n",
       "      <td>http://sharkattackfile.net/spreadsheets/pdf_di...</td>\n",
       "      <td>http://sharkattackfile.net/spreadsheets/pdf_di...</td>\n",
       "      <td>2018.06.25</td>\n",
       "      <td>2018.06.25</td>\n",
       "      <td>6303.0</td>\n",
       "      <td>NaN</td>\n",
       "      <td>NaN</td>\n",
       "    </tr>\n",
       "    <tr>\n",
       "      <th>1</th>\n",
       "      <td>2018.06.18</td>\n",
       "      <td>18-Jun-2018</td>\n",
       "      <td>2018.0</td>\n",
       "      <td>Unprovoked</td>\n",
       "      <td>USA</td>\n",
       "      <td>Georgia</td>\n",
       "      <td>St. Simon Island, Glynn County</td>\n",
       "      <td>Standing</td>\n",
       "      <td>Adyson McNeely</td>\n",
       "      <td>F</td>\n",
       "      <td>...</td>\n",
       "      <td>NaN</td>\n",
       "      <td>K.McMurray, TrackingSharks.com</td>\n",
       "      <td>2018.06.18-McNeely.pdf</td>\n",
       "      <td>http://sharkattackfile.net/spreadsheets/pdf_di...</td>\n",
       "      <td>http://sharkattackfile.net/spreadsheets/pdf_di...</td>\n",
       "      <td>2018.06.18</td>\n",
       "      <td>2018.06.18</td>\n",
       "      <td>6302.0</td>\n",
       "      <td>NaN</td>\n",
       "      <td>NaN</td>\n",
       "    </tr>\n",
       "    <tr>\n",
       "      <th>2</th>\n",
       "      <td>2018.06.09</td>\n",
       "      <td>09-Jun-2018</td>\n",
       "      <td>2018.0</td>\n",
       "      <td>Invalid</td>\n",
       "      <td>USA</td>\n",
       "      <td>Hawaii</td>\n",
       "      <td>Habush, Oahu</td>\n",
       "      <td>Surfing</td>\n",
       "      <td>John Denges</td>\n",
       "      <td>M</td>\n",
       "      <td>...</td>\n",
       "      <td>NaN</td>\n",
       "      <td>K.McMurray, TrackingSharks.com</td>\n",
       "      <td>2018.06.09-Denges.pdf</td>\n",
       "      <td>http://sharkattackfile.net/spreadsheets/pdf_di...</td>\n",
       "      <td>http://sharkattackfile.net/spreadsheets/pdf_di...</td>\n",
       "      <td>2018.06.09</td>\n",
       "      <td>2018.06.09</td>\n",
       "      <td>6301.0</td>\n",
       "      <td>NaN</td>\n",
       "      <td>NaN</td>\n",
       "    </tr>\n",
       "    <tr>\n",
       "      <th>3</th>\n",
       "      <td>2018.06.08</td>\n",
       "      <td>08-Jun-2018</td>\n",
       "      <td>2018.0</td>\n",
       "      <td>Unprovoked</td>\n",
       "      <td>AUSTRALIA</td>\n",
       "      <td>New South Wales</td>\n",
       "      <td>Arrawarra Headland</td>\n",
       "      <td>Surfing</td>\n",
       "      <td>male</td>\n",
       "      <td>M</td>\n",
       "      <td>...</td>\n",
       "      <td>2 m shark</td>\n",
       "      <td>B. Myatt, GSAF</td>\n",
       "      <td>2018.06.08-Arrawarra.pdf</td>\n",
       "      <td>http://sharkattackfile.net/spreadsheets/pdf_di...</td>\n",
       "      <td>http://sharkattackfile.net/spreadsheets/pdf_di...</td>\n",
       "      <td>2018.06.08</td>\n",
       "      <td>2018.06.08</td>\n",
       "      <td>6300.0</td>\n",
       "      <td>NaN</td>\n",
       "      <td>NaN</td>\n",
       "    </tr>\n",
       "    <tr>\n",
       "      <th>4</th>\n",
       "      <td>2018.06.04</td>\n",
       "      <td>04-Jun-2018</td>\n",
       "      <td>2018.0</td>\n",
       "      <td>Provoked</td>\n",
       "      <td>MEXICO</td>\n",
       "      <td>Colima</td>\n",
       "      <td>La Ticla</td>\n",
       "      <td>Free diving</td>\n",
       "      <td>Gustavo Ramos</td>\n",
       "      <td>M</td>\n",
       "      <td>...</td>\n",
       "      <td>Tiger shark, 3m</td>\n",
       "      <td>A .Kipper</td>\n",
       "      <td>2018.06.04-Ramos.pdf</td>\n",
       "      <td>http://sharkattackfile.net/spreadsheets/pdf_di...</td>\n",
       "      <td>http://sharkattackfile.net/spreadsheets/pdf_di...</td>\n",
       "      <td>2018.06.04</td>\n",
       "      <td>2018.06.04</td>\n",
       "      <td>6299.0</td>\n",
       "      <td>NaN</td>\n",
       "      <td>NaN</td>\n",
       "    </tr>\n",
       "    <tr>\n",
       "      <th>...</th>\n",
       "      <td>...</td>\n",
       "      <td>...</td>\n",
       "      <td>...</td>\n",
       "      <td>...</td>\n",
       "      <td>...</td>\n",
       "      <td>...</td>\n",
       "      <td>...</td>\n",
       "      <td>...</td>\n",
       "      <td>...</td>\n",
       "      <td>...</td>\n",
       "      <td>...</td>\n",
       "      <td>...</td>\n",
       "      <td>...</td>\n",
       "      <td>...</td>\n",
       "      <td>...</td>\n",
       "      <td>...</td>\n",
       "      <td>...</td>\n",
       "      <td>...</td>\n",
       "      <td>...</td>\n",
       "      <td>...</td>\n",
       "      <td>...</td>\n",
       "    </tr>\n",
       "    <tr>\n",
       "      <th>25718</th>\n",
       "      <td>NaN</td>\n",
       "      <td>NaN</td>\n",
       "      <td>NaN</td>\n",
       "      <td>NaN</td>\n",
       "      <td>NaN</td>\n",
       "      <td>NaN</td>\n",
       "      <td>NaN</td>\n",
       "      <td>NaN</td>\n",
       "      <td>NaN</td>\n",
       "      <td>NaN</td>\n",
       "      <td>...</td>\n",
       "      <td>NaN</td>\n",
       "      <td>NaN</td>\n",
       "      <td>NaN</td>\n",
       "      <td>NaN</td>\n",
       "      <td>NaN</td>\n",
       "      <td>NaN</td>\n",
       "      <td>NaN</td>\n",
       "      <td>NaN</td>\n",
       "      <td>NaN</td>\n",
       "      <td>NaN</td>\n",
       "    </tr>\n",
       "    <tr>\n",
       "      <th>25719</th>\n",
       "      <td>NaN</td>\n",
       "      <td>NaN</td>\n",
       "      <td>NaN</td>\n",
       "      <td>NaN</td>\n",
       "      <td>NaN</td>\n",
       "      <td>NaN</td>\n",
       "      <td>NaN</td>\n",
       "      <td>NaN</td>\n",
       "      <td>NaN</td>\n",
       "      <td>NaN</td>\n",
       "      <td>...</td>\n",
       "      <td>NaN</td>\n",
       "      <td>NaN</td>\n",
       "      <td>NaN</td>\n",
       "      <td>NaN</td>\n",
       "      <td>NaN</td>\n",
       "      <td>NaN</td>\n",
       "      <td>NaN</td>\n",
       "      <td>NaN</td>\n",
       "      <td>NaN</td>\n",
       "      <td>NaN</td>\n",
       "    </tr>\n",
       "    <tr>\n",
       "      <th>25720</th>\n",
       "      <td>NaN</td>\n",
       "      <td>NaN</td>\n",
       "      <td>NaN</td>\n",
       "      <td>NaN</td>\n",
       "      <td>NaN</td>\n",
       "      <td>NaN</td>\n",
       "      <td>NaN</td>\n",
       "      <td>NaN</td>\n",
       "      <td>NaN</td>\n",
       "      <td>NaN</td>\n",
       "      <td>...</td>\n",
       "      <td>NaN</td>\n",
       "      <td>NaN</td>\n",
       "      <td>NaN</td>\n",
       "      <td>NaN</td>\n",
       "      <td>NaN</td>\n",
       "      <td>NaN</td>\n",
       "      <td>NaN</td>\n",
       "      <td>NaN</td>\n",
       "      <td>NaN</td>\n",
       "      <td>NaN</td>\n",
       "    </tr>\n",
       "    <tr>\n",
       "      <th>25721</th>\n",
       "      <td>NaN</td>\n",
       "      <td>NaN</td>\n",
       "      <td>NaN</td>\n",
       "      <td>NaN</td>\n",
       "      <td>NaN</td>\n",
       "      <td>NaN</td>\n",
       "      <td>NaN</td>\n",
       "      <td>NaN</td>\n",
       "      <td>NaN</td>\n",
       "      <td>NaN</td>\n",
       "      <td>...</td>\n",
       "      <td>NaN</td>\n",
       "      <td>NaN</td>\n",
       "      <td>NaN</td>\n",
       "      <td>NaN</td>\n",
       "      <td>NaN</td>\n",
       "      <td>NaN</td>\n",
       "      <td>NaN</td>\n",
       "      <td>NaN</td>\n",
       "      <td>NaN</td>\n",
       "      <td>NaN</td>\n",
       "    </tr>\n",
       "    <tr>\n",
       "      <th>25722</th>\n",
       "      <td>xx</td>\n",
       "      <td>NaN</td>\n",
       "      <td>NaN</td>\n",
       "      <td>NaN</td>\n",
       "      <td>NaN</td>\n",
       "      <td>NaN</td>\n",
       "      <td>NaN</td>\n",
       "      <td>NaN</td>\n",
       "      <td>NaN</td>\n",
       "      <td>NaN</td>\n",
       "      <td>...</td>\n",
       "      <td>NaN</td>\n",
       "      <td>NaN</td>\n",
       "      <td>NaN</td>\n",
       "      <td>NaN</td>\n",
       "      <td>NaN</td>\n",
       "      <td>NaN</td>\n",
       "      <td>NaN</td>\n",
       "      <td>NaN</td>\n",
       "      <td>NaN</td>\n",
       "      <td>NaN</td>\n",
       "    </tr>\n",
       "  </tbody>\n",
       "</table>\n",
       "<p>25723 rows × 24 columns</p>\n",
       "</div>"
      ],
      "text/plain": [
       "      Case Number         Date    Year        Type    Country  \\\n",
       "0      2018.06.25  25-Jun-2018  2018.0     Boating        USA   \n",
       "1      2018.06.18  18-Jun-2018  2018.0  Unprovoked        USA   \n",
       "2      2018.06.09  09-Jun-2018  2018.0     Invalid        USA   \n",
       "3      2018.06.08  08-Jun-2018  2018.0  Unprovoked  AUSTRALIA   \n",
       "4      2018.06.04  04-Jun-2018  2018.0    Provoked     MEXICO   \n",
       "...           ...          ...     ...         ...        ...   \n",
       "25718         NaN          NaN     NaN         NaN        NaN   \n",
       "25719         NaN          NaN     NaN         NaN        NaN   \n",
       "25720         NaN          NaN     NaN         NaN        NaN   \n",
       "25721         NaN          NaN     NaN         NaN        NaN   \n",
       "25722          xx          NaN     NaN         NaN        NaN   \n",
       "\n",
       "                  Area                        Location     Activity  \\\n",
       "0           California     Oceanside, San Diego County     Paddling   \n",
       "1              Georgia  St. Simon Island, Glynn County     Standing   \n",
       "2               Hawaii                    Habush, Oahu      Surfing   \n",
       "3      New South Wales              Arrawarra Headland      Surfing   \n",
       "4               Colima                        La Ticla  Free diving   \n",
       "...                ...                             ...          ...   \n",
       "25718              NaN                             NaN          NaN   \n",
       "25719              NaN                             NaN          NaN   \n",
       "25720              NaN                             NaN          NaN   \n",
       "25721              NaN                             NaN          NaN   \n",
       "25722              NaN                             NaN          NaN   \n",
       "\n",
       "                  Name Sex   ...         Species   \\\n",
       "0          Julie Wolfe    F  ...      White shark   \n",
       "1      Adyson McNeely     F  ...              NaN   \n",
       "2          John Denges    M  ...              NaN   \n",
       "3                 male    M  ...        2 m shark   \n",
       "4       Gustavo Ramos     M  ...  Tiger shark, 3m   \n",
       "...                ...  ...  ...              ...   \n",
       "25718              NaN  NaN  ...              NaN   \n",
       "25719              NaN  NaN  ...              NaN   \n",
       "25720              NaN  NaN  ...              NaN   \n",
       "25721              NaN  NaN  ...              NaN   \n",
       "25722              NaN  NaN  ...              NaN   \n",
       "\n",
       "               Investigator or Source                       pdf  \\\n",
       "0                    R. Collier, GSAF      2018.06.25-Wolfe.pdf   \n",
       "1      K.McMurray, TrackingSharks.com    2018.06.18-McNeely.pdf   \n",
       "2      K.McMurray, TrackingSharks.com     2018.06.09-Denges.pdf   \n",
       "3                      B. Myatt, GSAF  2018.06.08-Arrawarra.pdf   \n",
       "4                           A .Kipper      2018.06.04-Ramos.pdf   \n",
       "...                               ...                       ...   \n",
       "25718                             NaN                       NaN   \n",
       "25719                             NaN                       NaN   \n",
       "25720                             NaN                       NaN   \n",
       "25721                             NaN                       NaN   \n",
       "25722                             NaN                       NaN   \n",
       "\n",
       "                                            href formula  \\\n",
       "0      http://sharkattackfile.net/spreadsheets/pdf_di...   \n",
       "1      http://sharkattackfile.net/spreadsheets/pdf_di...   \n",
       "2      http://sharkattackfile.net/spreadsheets/pdf_di...   \n",
       "3      http://sharkattackfile.net/spreadsheets/pdf_di...   \n",
       "4      http://sharkattackfile.net/spreadsheets/pdf_di...   \n",
       "...                                                  ...   \n",
       "25718                                                NaN   \n",
       "25719                                                NaN   \n",
       "25720                                                NaN   \n",
       "25721                                                NaN   \n",
       "25722                                                NaN   \n",
       "\n",
       "                                                    href Case Number.1  \\\n",
       "0      http://sharkattackfile.net/spreadsheets/pdf_di...    2018.06.25   \n",
       "1      http://sharkattackfile.net/spreadsheets/pdf_di...    2018.06.18   \n",
       "2      http://sharkattackfile.net/spreadsheets/pdf_di...    2018.06.09   \n",
       "3      http://sharkattackfile.net/spreadsheets/pdf_di...    2018.06.08   \n",
       "4      http://sharkattackfile.net/spreadsheets/pdf_di...    2018.06.04   \n",
       "...                                                  ...           ...   \n",
       "25718                                                NaN           NaN   \n",
       "25719                                                NaN           NaN   \n",
       "25720                                                NaN           NaN   \n",
       "25721                                                NaN           NaN   \n",
       "25722                                                NaN           NaN   \n",
       "\n",
       "      Case Number.2 original order Unnamed: 22 Unnamed: 23  \n",
       "0        2018.06.25         6303.0         NaN         NaN  \n",
       "1        2018.06.18         6302.0         NaN         NaN  \n",
       "2        2018.06.09         6301.0         NaN         NaN  \n",
       "3        2018.06.08         6300.0         NaN         NaN  \n",
       "4        2018.06.04         6299.0         NaN         NaN  \n",
       "...             ...            ...         ...         ...  \n",
       "25718           NaN            NaN         NaN         NaN  \n",
       "25719           NaN            NaN         NaN         NaN  \n",
       "25720           NaN            NaN         NaN         NaN  \n",
       "25721           NaN            NaN         NaN         NaN  \n",
       "25722           NaN            NaN         NaN         NaN  \n",
       "\n",
       "[25723 rows x 24 columns]"
      ]
     },
     "execution_count": 3,
     "metadata": {},
     "output_type": "execute_result"
    }
   ],
   "source": [
    "data= data_ori.copy()  #Para trabajar con una copia y poder comparar si fuera necesario\n",
    "data"
   ]
  },
  {
   "cell_type": "markdown",
   "id": "ecf918b1",
   "metadata": {},
   "source": [
    "#### Información básica sobre la tabla de datos."
   ]
  },
  {
   "cell_type": "code",
   "execution_count": 4,
   "id": "0fd3d788",
   "metadata": {
    "scrolled": true
   },
   "outputs": [
    {
     "name": "stdout",
     "output_type": "stream",
     "text": [
      "<class 'pandas.core.frame.DataFrame'>\n",
      "RangeIndex: 25723 entries, 0 to 25722\n",
      "Data columns (total 24 columns):\n",
      " #   Column                  Non-Null Count  Dtype  \n",
      "---  ------                  --------------  -----  \n",
      " 0   Case Number             8702 non-null   object \n",
      " 1   Date                    6302 non-null   object \n",
      " 2   Year                    6300 non-null   float64\n",
      " 3   Type                    6298 non-null   object \n",
      " 4   Country                 6252 non-null   object \n",
      " 5   Area                    5847 non-null   object \n",
      " 6   Location                5762 non-null   object \n",
      " 7   Activity                5758 non-null   object \n",
      " 8   Name                    6092 non-null   object \n",
      " 9   Sex                     5737 non-null   object \n",
      " 10  Age                     3471 non-null   object \n",
      " 11  Injury                  6274 non-null   object \n",
      " 12  Fatal (Y/N)             5763 non-null   object \n",
      " 13  Time                    2948 non-null   object \n",
      " 14  Species                 3464 non-null   object \n",
      " 15  Investigator or Source  6285 non-null   object \n",
      " 16  pdf                     6302 non-null   object \n",
      " 17  href formula            6301 non-null   object \n",
      " 18  href                    6302 non-null   object \n",
      " 19  Case Number.1           6302 non-null   object \n",
      " 20  Case Number.2           6302 non-null   object \n",
      " 21  original order          6309 non-null   float64\n",
      " 22  Unnamed: 22             1 non-null      object \n",
      " 23  Unnamed: 23             2 non-null      object \n",
      "dtypes: float64(2), object(22)\n",
      "memory usage: 4.7+ MB\n"
     ]
    }
   ],
   "source": [
    "data.info()  "
   ]
  },
  {
   "cell_type": "code",
   "execution_count": 5,
   "id": "e3c64828",
   "metadata": {
    "scrolled": true
   },
   "outputs": [
    {
     "data": {
      "text/plain": [
       "(25723, 24)"
      ]
     },
     "execution_count": 5,
     "metadata": {},
     "output_type": "execute_result"
    }
   ],
   "source": [
    "data.shape "
   ]
  },
  {
   "cell_type": "markdown",
   "id": "ed6fd9da",
   "metadata": {},
   "source": [
    "# Arreglar los nombres de columnas. Quitar espacios."
   ]
  },
  {
   "cell_type": "code",
   "execution_count": 6,
   "id": "71c921e5",
   "metadata": {},
   "outputs": [
    {
     "data": {
      "text/plain": [
       "['CaseNumber',\n",
       " 'Date',\n",
       " 'Year',\n",
       " 'Type',\n",
       " 'Country',\n",
       " 'Area',\n",
       " 'Location',\n",
       " 'Activity',\n",
       " 'Name',\n",
       " 'Sex',\n",
       " 'Age',\n",
       " 'Injury',\n",
       " 'Fatal(Y/N)',\n",
       " 'Time',\n",
       " 'Species',\n",
       " 'InvestigatororSource',\n",
       " 'pdf',\n",
       " 'hrefformula',\n",
       " 'href',\n",
       " 'CaseNumber.1',\n",
       " 'CaseNumber.2',\n",
       " 'originalorder',\n",
       " 'Unnamed:22',\n",
       " 'Unnamed:23']"
      ]
     },
     "execution_count": 6,
     "metadata": {},
     "output_type": "execute_result"
    }
   ],
   "source": [
    "columnas=list(data.columns)\n",
    "columnas_bien= [nombre.replace(' ','') for nombre in columnas]\n",
    "columnas_bien"
   ]
  },
  {
   "cell_type": "code",
   "execution_count": 7,
   "id": "f2118f08",
   "metadata": {},
   "outputs": [],
   "source": [
    "data.columns=columnas_bien #Ya tiene las columnas bien escritas"
   ]
  },
  {
   "cell_type": "markdown",
   "id": "fcf8fa20",
   "metadata": {},
   "source": [
    "# Borrar duplicados"
   ]
  },
  {
   "cell_type": "code",
   "execution_count": 8,
   "id": "3ed55e2c",
   "metadata": {},
   "outputs": [],
   "source": [
    "data.duplicated()\n",
    "data.drop_duplicates(inplace=True)"
   ]
  },
  {
   "cell_type": "code",
   "execution_count": 9,
   "id": "53155276",
   "metadata": {},
   "outputs": [
    {
     "data": {
      "text/plain": [
       "((6312, 24), (25723, 24))"
      ]
     },
     "execution_count": 9,
     "metadata": {},
     "output_type": "execute_result"
    }
   ],
   "source": [
    "data.shape, data_ori.shape"
   ]
  },
  {
   "cell_type": "code",
   "execution_count": 10,
   "id": "6094df72",
   "metadata": {},
   "outputs": [
    {
     "data": {
      "text/plain": [
       "False"
      ]
     },
     "execution_count": 10,
     "metadata": {},
     "output_type": "execute_result"
    }
   ],
   "source": [
    "data.duplicated().any() #Ya no hay duplicados. "
   ]
  },
  {
   "cell_type": "markdown",
   "id": "d283a559",
   "metadata": {},
   "source": [
    "# Mirar nulos"
   ]
  },
  {
   "cell_type": "code",
   "execution_count": 11,
   "id": "34a9db36",
   "metadata": {},
   "outputs": [
    {
     "data": {
      "text/plain": [
       "CaseNumber                 2\n",
       "Date                      10\n",
       "Year                      12\n",
       "Type                      14\n",
       "Country                   60\n",
       "Area                     465\n",
       "Location                 550\n",
       "Activity                 554\n",
       "Name                     220\n",
       "Sex                      575\n",
       "Age                     2841\n",
       "Injury                    38\n",
       "Fatal(Y/N)               549\n",
       "Time                    3364\n",
       "Species                 2848\n",
       "InvestigatororSource      27\n",
       "pdf                       10\n",
       "hrefformula               11\n",
       "href                      10\n",
       "CaseNumber.1              10\n",
       "CaseNumber.2              10\n",
       "originalorder              3\n",
       "Unnamed:22              6311\n",
       "Unnamed:23              6310\n",
       "dtype: int64"
      ]
     },
     "execution_count": 11,
     "metadata": {},
     "output_type": "execute_result"
    }
   ],
   "source": [
    "nan_cols= data.isna().sum()\n",
    "nan_cols[nan_cols>0]"
   ]
  },
  {
   "cell_type": "code",
   "execution_count": 12,
   "id": "2b85521e",
   "metadata": {},
   "outputs": [
    {
     "data": {
      "text/plain": [
       "{'CaseNumber': 2,\n",
       " 'Date': 10,\n",
       " 'Year': 12,\n",
       " 'Type': 14,\n",
       " 'Country': 60,\n",
       " 'Area': 465,\n",
       " 'Location': 550,\n",
       " 'Activity': 554,\n",
       " 'Name': 220,\n",
       " 'Sex': 575,\n",
       " 'Age': 2841,\n",
       " 'Injury': 38,\n",
       " 'Fatal(Y/N)': 549,\n",
       " 'Time': 3364,\n",
       " 'Species': 2848,\n",
       " 'InvestigatororSource': 27,\n",
       " 'pdf': 10,\n",
       " 'hrefformula': 11,\n",
       " 'href': 10,\n",
       " 'CaseNumber.1': 10,\n",
       " 'CaseNumber.2': 10,\n",
       " 'originalorder': 3,\n",
       " 'Unnamed:22': 6311,\n",
       " 'Unnamed:23': 6310}"
      ]
     },
     "execution_count": 12,
     "metadata": {},
     "output_type": "execute_result"
    }
   ],
   "source": [
    "diccna=dict(nan_cols)\n",
    "diccna"
   ]
  },
  {
   "cell_type": "markdown",
   "id": "4d85cc37",
   "metadata": {},
   "source": [
    "## Hacer histograma con columnas y numero de nulos"
   ]
  },
  {
   "cell_type": "code",
   "execution_count": 13,
   "id": "9dadfe52",
   "metadata": {
    "scrolled": true
   },
   "outputs": [
    {
     "data": {
      "image/png": "[encoded data removed]",
      "text/plain": [
       "<Figure size 432x288 with 1 Axes>"
      ]
     },
     "metadata": {
      "needs_background": "light"
     },
     "output_type": "display_data"
    }
   ],
   "source": [
    "from matplotlib import pyplot as plt\n",
    "ejex=[i for i in range(1,25)]\n",
    "histogram_na = plt.bar(x=ejex, height=diccna.values())\n",
    "plt.title('Histograma de valores nulos según la columna')\n",
    "plt.xlabel('Columnas')\n",
    "plt.ylabel('Frecuencia')\n",
    "plt.show();\n"
   ]
  },
  {
   "cell_type": "markdown",
   "id": "e71012f1",
   "metadata": {},
   "source": [
    "## Borrar las filas con mas de 5 valores nulos"
   ]
  },
  {
   "cell_type": "code",
   "execution_count": 14,
   "id": "0c0982aa",
   "metadata": {},
   "outputs": [
    {
     "data": {
      "text/plain": [
       "((6312, 24), (25723, 24))"
      ]
     },
     "execution_count": 14,
     "metadata": {},
     "output_type": "execute_result"
    }
   ],
   "source": [
    "data.shape, data_ori.shape"
   ]
  },
  {
   "cell_type": "code",
   "execution_count": 15,
   "id": "48ed031d",
   "metadata": {},
   "outputs": [],
   "source": [
    "a=data.isnull().sum(axis=1)"
   ]
  },
  {
   "cell_type": "code",
   "execution_count": 16,
   "id": "44fd4a83",
   "metadata": {},
   "outputs": [],
   "source": [
    "data_a=pd.DataFrame(a)"
   ]
  },
  {
   "cell_type": "code",
   "execution_count": 17,
   "id": "dd3175d0",
   "metadata": {},
   "outputs": [
    {
     "data": {
      "text/html": [
       "<div>\n",
       "<style scoped>\n",
       "    .dataframe tbody tr th:only-of-type {\n",
       "        vertical-align: middle;\n",
       "    }\n",
       "\n",
       "    .dataframe tbody tr th {\n",
       "        vertical-align: top;\n",
       "    }\n",
       "\n",
       "    .dataframe thead th {\n",
       "        text-align: right;\n",
       "    }\n",
       "</style>\n",
       "<table border=\"1\" class=\"dataframe\">\n",
       "  <thead>\n",
       "    <tr style=\"text-align: right;\">\n",
       "      <th></th>\n",
       "      <th>0</th>\n",
       "    </tr>\n",
       "  </thead>\n",
       "  <tbody>\n",
       "    <tr>\n",
       "      <th>0</th>\n",
       "      <td>2</td>\n",
       "    </tr>\n",
       "    <tr>\n",
       "      <th>1</th>\n",
       "      <td>3</td>\n",
       "    </tr>\n",
       "    <tr>\n",
       "      <th>2</th>\n",
       "      <td>3</td>\n",
       "    </tr>\n",
       "    <tr>\n",
       "      <th>3</th>\n",
       "      <td>4</td>\n",
       "    </tr>\n",
       "    <tr>\n",
       "      <th>4</th>\n",
       "      <td>4</td>\n",
       "    </tr>\n",
       "    <tr>\n",
       "      <th>...</th>\n",
       "      <td>...</td>\n",
       "    </tr>\n",
       "    <tr>\n",
       "      <th>6307</th>\n",
       "      <td>22</td>\n",
       "    </tr>\n",
       "    <tr>\n",
       "      <th>6308</th>\n",
       "      <td>22</td>\n",
       "    </tr>\n",
       "    <tr>\n",
       "      <th>6309</th>\n",
       "      <td>23</td>\n",
       "    </tr>\n",
       "    <tr>\n",
       "      <th>8702</th>\n",
       "      <td>24</td>\n",
       "    </tr>\n",
       "    <tr>\n",
       "      <th>25722</th>\n",
       "      <td>23</td>\n",
       "    </tr>\n",
       "  </tbody>\n",
       "</table>\n",
       "<p>6312 rows × 1 columns</p>\n",
       "</div>"
      ],
      "text/plain": [
       "        0\n",
       "0       2\n",
       "1       3\n",
       "2       3\n",
       "3       4\n",
       "4       4\n",
       "...    ..\n",
       "6307   22\n",
       "6308   22\n",
       "6309   23\n",
       "8702   24\n",
       "25722  23\n",
       "\n",
       "[6312 rows x 1 columns]"
      ]
     },
     "execution_count": 17,
     "metadata": {},
     "output_type": "execute_result"
    }
   ],
   "source": [
    "data_a"
   ]
  },
  {
   "cell_type": "code",
   "execution_count": 18,
   "id": "f0061e85",
   "metadata": {},
   "outputs": [
    {
     "data": {
      "text/plain": [
       "978"
      ]
     },
     "execution_count": 18,
     "metadata": {},
     "output_type": "execute_result"
    }
   ],
   "source": [
    "bad_indices=data_a[data_a[0]>5].index\n",
    "len(bad_indices)"
   ]
  },
  {
   "cell_type": "code",
   "execution_count": 19,
   "id": "96b1dd21",
   "metadata": {},
   "outputs": [],
   "source": [
    "data.drop(bad_indices, axis=0, inplace=True)  #ya hemos eliminado las filas con más de 5 valores nulos. "
   ]
  },
  {
   "cell_type": "code",
   "execution_count": 20,
   "id": "1f171b0a",
   "metadata": {},
   "outputs": [
    {
     "data": {
      "text/plain": [
       "((5334, 24), (25723, 24))"
      ]
     },
     "execution_count": 20,
     "metadata": {},
     "output_type": "execute_result"
    }
   ],
   "source": [
    "data.shape, data_ori.shape"
   ]
  },
  {
   "cell_type": "markdown",
   "id": "d22f1b55",
   "metadata": {},
   "source": [
    "# Unificar columnas necesarias para el estudio."
   ]
  },
  {
   "cell_type": "markdown",
   "id": "07f65ff6",
   "metadata": {},
   "source": [
    "### Dado que el estudio se va a centrar en relacionar el numero de ataques según la especie, si ha muerto o no la persona y el \"motivo\" del ataque con el valor 'type', voy a limpiar y analizar las siguientes columnas: Type, Fatal(T/N) y Species."
   ]
  },
  {
   "cell_type": "markdown",
   "id": "98a45052",
   "metadata": {},
   "source": [
    "## Columna Type"
   ]
  },
  {
   "cell_type": "code",
   "execution_count": 21,
   "id": "5ab1336b",
   "metadata": {},
   "outputs": [
    {
     "data": {
      "text/plain": [
       "array(['Boating', 'Unprovoked', 'Invalid', 'Provoked', 'Questionable',\n",
       "       nan, 'Boat', 'Sea Disaster', 'Boatomg'], dtype=object)"
      ]
     },
     "execution_count": 21,
     "metadata": {},
     "output_type": "execute_result"
    }
   ],
   "source": [
    "data['Type'].unique()"
   ]
  },
  {
   "cell_type": "code",
   "execution_count": 22,
   "id": "c7ec626f",
   "metadata": {},
   "outputs": [],
   "source": [
    "data['Type'].replace(['Invalid','Questionable','Boat','Boatomg'],\n",
    "                    ['Unknown','Unknown','Boating','Boating'],\n",
    "                    inplace = True)\n",
    "\n"
   ]
  },
  {
   "cell_type": "code",
   "execution_count": 23,
   "id": "a42a5347",
   "metadata": {},
   "outputs": [
    {
     "data": {
      "text/plain": [
       "Unprovoked      4071\n",
       "Provoked         519\n",
       "Unknown          380\n",
       "Boating          253\n",
       "Sea Disaster     110\n",
       "Name: Type, dtype: int64"
      ]
     },
     "execution_count": 23,
     "metadata": {},
     "output_type": "execute_result"
    }
   ],
   "source": [
    "data['Type'].value_counts()  #Ya hemos quitado los valores inconsistentes."
   ]
  },
  {
   "cell_type": "markdown",
   "id": "85475e16",
   "metadata": {},
   "source": [
    "## Columna Species"
   ]
  },
  {
   "cell_type": "code",
   "execution_count": 24,
   "id": "c6c9f358",
   "metadata": {},
   "outputs": [
    {
     "data": {
      "text/plain": [
       "1496"
      ]
     },
     "execution_count": 24,
     "metadata": {},
     "output_type": "execute_result"
    }
   ],
   "source": [
    "len(data['Species'].value_counts())  #Hay 1493 valores diferentes que refieren a la especie.\n"
   ]
  },
  {
   "cell_type": "code",
   "execution_count": 25,
   "id": "3ea162dd",
   "metadata": {},
   "outputs": [],
   "source": [
    "#pd.options.display.max_rows=None"
   ]
  },
  {
   "cell_type": "code",
   "execution_count": 26,
   "id": "9a70332a",
   "metadata": {},
   "outputs": [],
   "source": [
    "#sustituir nan por \"unknown\"\n",
    "data['Species'].fillna('unknown', inplace=True)"
   ]
  },
  {
   "cell_type": "code",
   "execution_count": 27,
   "id": "02eb2b90",
   "metadata": {
    "scrolled": true
   },
   "outputs": [],
   "source": [
    "#Lista de especies que encontramos\n",
    "species_list=['white Shark','tiger shark','bull shark','webbegong shark','blacktip shark','blue shark','whaler shark','mako shark','raggedtooth shark','nurse shark','zambesi shark','hammer head shark','sandtiger shark','basking shark','lemon shark','spinner shark','whitetip shark','angel shark','grey reef shark','galapagos shark','sevengill shark','caribbean reefshark']\n"
   ]
  },
  {
   "cell_type": "code",
   "execution_count": 28,
   "id": "addccf3e",
   "metadata": {},
   "outputs": [
    {
     "data": {
      "text/plain": [
       "5334"
      ]
     },
     "execution_count": 28,
     "metadata": {},
     "output_type": "execute_result"
    }
   ],
   "source": [
    "#Lista de los valores en la columna species\n",
    "species_values=data['Species'].values.tolist()\n",
    "len(species_values)\n"
   ]
  },
  {
   "cell_type": "code",
   "execution_count": 29,
   "id": "d02d17cb",
   "metadata": {},
   "outputs": [],
   "source": [
    "#Función para sustituír el nombre de la tabla de datos por el nombre correcto y así unificar los datos.\n",
    "species_col=[]\n",
    "for i in species_values:\n",
    "    for j in species_list:\n",
    "        if j.lower() in i.lower():\n",
    "            #print(j)\n",
    "            #print(i)\n",
    "            species_col.append(j)\n",
    "            break\n",
    "    else:\n",
    "        species_col.append('unknown')\n",
    "#species_col"
   ]
  },
  {
   "cell_type": "markdown",
   "id": "bedc1e5e",
   "metadata": {},
   "source": [
    "### Cambiar los valores de la columna species con los valores nuevos de species_col"
   ]
  },
  {
   "cell_type": "code",
   "execution_count": 30,
   "id": "0c204400",
   "metadata": {},
   "outputs": [
    {
     "data": {
      "text/plain": [
       "(5334, 5334)"
      ]
     },
     "execution_count": 30,
     "metadata": {},
     "output_type": "execute_result"
    }
   ],
   "source": [
    "len(species_col) ,len(data['Species'])"
   ]
  },
  {
   "cell_type": "code",
   "execution_count": 31,
   "id": "351170d2",
   "metadata": {},
   "outputs": [],
   "source": [
    "data['Species']=species_col"
   ]
  },
  {
   "cell_type": "code",
   "execution_count": 32,
   "id": "713c5df3",
   "metadata": {},
   "outputs": [
    {
     "data": {
      "text/plain": [
       "unknown              3767\n",
       "white Shark           607\n",
       "tiger shark           271\n",
       "bull shark            170\n",
       "nurse shark            93\n",
       "whaler shark           65\n",
       "blacktip shark         62\n",
       "mako shark             50\n",
       "spinner shark          43\n",
       "raggedtooth shark      41\n",
       "blue shark             37\n",
       "lemon shark            33\n",
       "zambesi shark          25\n",
       "whitetip shark         22\n",
       "grey reef shark        17\n",
       "sevengill shark        11\n",
       "galapagos shark         7\n",
       "basking shark           7\n",
       "angel shark             6\n",
       "Name: Species, dtype: int64"
      ]
     },
     "execution_count": 32,
     "metadata": {},
     "output_type": "execute_result"
    }
   ],
   "source": [
    "data['Species'].value_counts()"
   ]
  },
  {
   "cell_type": "markdown",
   "id": "3163de9e",
   "metadata": {},
   "source": [
    "## Columna que visualiza si el ataque ha sido o no fatal."
   ]
  },
  {
   "cell_type": "code",
   "execution_count": 33,
   "id": "9c0c2465",
   "metadata": {},
   "outputs": [
    {
     "data": {
      "text/plain": [
       "N          3887\n",
       "Y          1054\n",
       "UNKNOWN      22\n",
       " N            7\n",
       "M             1\n",
       "2017          1\n",
       "Name: Fatal(Y/N), dtype: int64"
      ]
     },
     "execution_count": 33,
     "metadata": {},
     "output_type": "execute_result"
    }
   ],
   "source": [
    "data['Fatal(Y/N)'].value_counts()"
   ]
  },
  {
   "cell_type": "code",
   "execution_count": 34,
   "id": "fa1ecf6e",
   "metadata": {},
   "outputs": [],
   "source": [
    "data['Fatal(Y/N)'].replace([' N','UNKNOWN','M','2017'],\n",
    "                    ['N','Unknown','Unknown','Unknown'],\n",
    "                    inplace = True)\n",
    "\n"
   ]
  },
  {
   "cell_type": "code",
   "execution_count": 35,
   "id": "72661494",
   "metadata": {},
   "outputs": [
    {
     "data": {
      "text/plain": [
       "N          3894\n",
       "Y          1054\n",
       "Unknown      24\n",
       "Name: Fatal(Y/N), dtype: int64"
      ]
     },
     "execution_count": 35,
     "metadata": {},
     "output_type": "execute_result"
    }
   ],
   "source": [
    "data['Fatal(Y/N)'].value_counts()"
   ]
  },
  {
   "cell_type": "markdown",
   "id": "0ead34e5",
   "metadata": {},
   "source": [
    "# Ya hemos limpiado las tres columnas necesarias para el estudio. Vamos a terminar de rellenar los valores nulos del resto de la dataset."
   ]
  },
  {
   "cell_type": "code",
   "execution_count": 36,
   "id": "1a0ae8bd",
   "metadata": {},
   "outputs": [
    {
     "data": {
      "text/plain": [
       "Type                       1\n",
       "Country                    2\n",
       "Area                     103\n",
       "Location                 144\n",
       "Activity                 153\n",
       "Name                      24\n",
       "Sex                      217\n",
       "Age                     1929\n",
       "Injury                     2\n",
       "Fatal(Y/N)               362\n",
       "Time                    2422\n",
       "InvestigatororSource       5\n",
       "hrefformula                1\n",
       "Unnamed:22              5333\n",
       "Unnamed:23              5332\n",
       "dtype: int64"
      ]
     },
     "execution_count": 36,
     "metadata": {},
     "output_type": "execute_result"
    }
   ],
   "source": [
    "nan_cols= data.isna().sum()\n",
    "nan_cols[nan_cols>0]"
   ]
  },
  {
   "cell_type": "code",
   "execution_count": 37,
   "id": "28a6c789",
   "metadata": {},
   "outputs": [
    {
     "name": "stdout",
     "output_type": "stream",
     "text": [
      "<class 'pandas.core.frame.DataFrame'>\n",
      "Int64Index: 5334 entries, 0 to 6301\n",
      "Data columns (total 24 columns):\n",
      " #   Column                Non-Null Count  Dtype  \n",
      "---  ------                --------------  -----  \n",
      " 0   CaseNumber            5334 non-null   object \n",
      " 1   Date                  5334 non-null   object \n",
      " 2   Year                  5334 non-null   float64\n",
      " 3   Type                  5333 non-null   object \n",
      " 4   Country               5332 non-null   object \n",
      " 5   Area                  5231 non-null   object \n",
      " 6   Location              5190 non-null   object \n",
      " 7   Activity              5181 non-null   object \n",
      " 8   Name                  5310 non-null   object \n",
      " 9   Sex                   5117 non-null   object \n",
      " 10  Age                   3405 non-null   object \n",
      " 11  Injury                5332 non-null   object \n",
      " 12  Fatal(Y/N)            4972 non-null   object \n",
      " 13  Time                  2912 non-null   object \n",
      " 14  Species               5334 non-null   object \n",
      " 15  InvestigatororSource  5329 non-null   object \n",
      " 16  pdf                   5334 non-null   object \n",
      " 17  hrefformula           5333 non-null   object \n",
      " 18  href                  5334 non-null   object \n",
      " 19  CaseNumber.1          5334 non-null   object \n",
      " 20  CaseNumber.2          5334 non-null   object \n",
      " 21  originalorder         5334 non-null   float64\n",
      " 22  Unnamed:22            1 non-null      object \n",
      " 23  Unnamed:23            2 non-null      object \n",
      "dtypes: float64(2), object(22)\n",
      "memory usage: 1.0+ MB\n"
     ]
    }
   ],
   "source": [
    "data.info()"
   ]
  },
  {
   "cell_type": "markdown",
   "id": "52b13b1c",
   "metadata": {},
   "source": [
    "### Buscar las columnas numericas y sustituir el nulo por '0'."
   ]
  },
  {
   "cell_type": "code",
   "execution_count": 38,
   "id": "60efac22",
   "metadata": {},
   "outputs": [
    {
     "data": {
      "text/plain": [
       "Index(['Year', 'originalorder'], dtype='object')"
      ]
     },
     "execution_count": 38,
     "metadata": {},
     "output_type": "execute_result"
    }
   ],
   "source": [
    "num_data =data.select_dtypes(exclude='object')\n",
    "\n",
    "num_data.columns"
   ]
  },
  {
   "cell_type": "code",
   "execution_count": 39,
   "id": "5a0175bc",
   "metadata": {},
   "outputs": [],
   "source": [
    "data['Year'].fillna(0, inplace=True)\n",
    "data['originalorder'].fillna(0, inplace=True)"
   ]
  },
  {
   "cell_type": "markdown",
   "id": "12f20b30",
   "metadata": {},
   "source": [
    "### Como el resto de las columnas son tipo objeto vamos a sustituir el nulo por 'unknown'."
   ]
  },
  {
   "cell_type": "code",
   "execution_count": 40,
   "id": "04ea9779",
   "metadata": {},
   "outputs": [
    {
     "data": {
      "text/plain": [
       "Index(['CaseNumber', 'Date', 'Type', 'Country', 'Area', 'Location', 'Activity',\n",
       "       'Name', 'Sex', 'Age', 'Injury', 'Fatal(Y/N)', 'Time', 'Species',\n",
       "       'InvestigatororSource', 'pdf', 'hrefformula', 'href', 'CaseNumber.1',\n",
       "       'CaseNumber.2', 'Unnamed:22', 'Unnamed:23'],\n",
       "      dtype='object')"
      ]
     },
     "execution_count": 40,
     "metadata": {},
     "output_type": "execute_result"
    }
   ],
   "source": [
    "num_data =data.select_dtypes(exclude='float64')\n",
    "\n",
    "num_data.columns"
   ]
  },
  {
   "cell_type": "code",
   "execution_count": 41,
   "id": "10494b4c",
   "metadata": {},
   "outputs": [
    {
     "data": {
      "text/plain": [
       "Series([], dtype: int64)"
      ]
     },
     "execution_count": 41,
     "metadata": {},
     "output_type": "execute_result"
    }
   ],
   "source": [
    "data.fillna('unknown', inplace=True)\n",
    "nan_cols= data.isna().sum()\n",
    "nan_cols[nan_cols>0]"
   ]
  },
  {
   "cell_type": "markdown",
   "id": "75594a9c",
   "metadata": {},
   "source": [
    "## Ya no quedan valores nulos en el dataset. Vamos a comenzar con el analisis estadístico.\n",
    "\n",
    "### Se quiere comparar el numero de ataques segun la especie y ver si han muerto o no. Además vamos a ver el tipo de ataque que ha sido. "
   ]
  },
  {
   "cell_type": "markdown",
   "id": "30c919c3",
   "metadata": {},
   "source": [
    "## Número de ataques según especie."
   ]
  },
  {
   "cell_type": "markdown",
   "id": "32c5c5bd",
   "metadata": {},
   "source": [
    "### Como cada fila representa un ataque, simplemente sería ver el número de filas para cada especie: "
   ]
  },
  {
   "cell_type": "code",
   "execution_count": 42,
   "id": "bb94ad9a",
   "metadata": {
    "scrolled": false
   },
   "outputs": [
    {
     "data": {
      "text/plain": [
       "unknown              3767\n",
       "white Shark           607\n",
       "tiger shark           271\n",
       "bull shark            170\n",
       "nurse shark            93\n",
       "whaler shark           65\n",
       "blacktip shark         62\n",
       "mako shark             50\n",
       "spinner shark          43\n",
       "raggedtooth shark      41\n",
       "blue shark             37\n",
       "lemon shark            33\n",
       "zambesi shark          25\n",
       "whitetip shark         22\n",
       "grey reef shark        17\n",
       "sevengill shark        11\n",
       "galapagos shark         7\n",
       "basking shark           7\n",
       "angel shark             6\n",
       "Name: Species, dtype: int64"
      ]
     },
     "execution_count": 42,
     "metadata": {},
     "output_type": "execute_result"
    }
   ],
   "source": [
    "data['Species'].value_counts()"
   ]
  },
  {
   "cell_type": "code",
   "execution_count": 61,
   "id": "d92cbb5c",
   "metadata": {},
   "outputs": [
    {
     "ename": "ValueError",
     "evalue": "shape mismatch: objects cannot be broadcast to a single shape",
     "output_type": "error",
     "traceback": [
      "\u001b[0;31m---------------------------------------------------------------------------\u001b[0m",
      "\u001b[0;31mValueError\u001b[0m                                Traceback (most recent call last)",
      "Input \u001b[0;32mIn [61]\u001b[0m, in \u001b[0;36m<cell line: 3>\u001b[0;34m()\u001b[0m\n\u001b[1;32m      1\u001b[0m \u001b[38;5;28;01mfrom\u001b[39;00m \u001b[38;5;21;01mmatplotlib\u001b[39;00m \u001b[38;5;28;01mimport\u001b[39;00m pyplot \u001b[38;5;28;01mas\u001b[39;00m plt\n\u001b[1;32m      2\u001b[0m ejex\u001b[38;5;241m=\u001b[39mdata[\u001b[38;5;124m'\u001b[39m\u001b[38;5;124mSpecies\u001b[39m\u001b[38;5;124m'\u001b[39m]\n\u001b[0;32m----> 3\u001b[0m histogram_na \u001b[38;5;241m=\u001b[39m \u001b[43mplt\u001b[49m\u001b[38;5;241;43m.\u001b[39;49m\u001b[43mbar\u001b[49m\u001b[43m(\u001b[49m\u001b[43mx\u001b[49m\u001b[38;5;241;43m=\u001b[39;49m\u001b[43mejex\u001b[49m\u001b[43m,\u001b[49m\u001b[43m \u001b[49m\u001b[43mheight\u001b[49m\u001b[38;5;241;43m=\u001b[39;49m\u001b[43mdiccna\u001b[49m\u001b[38;5;241;43m.\u001b[39;49m\u001b[43mvalues\u001b[49m\u001b[43m(\u001b[49m\u001b[43m)\u001b[49m\u001b[43m)\u001b[49m\n\u001b[1;32m      4\u001b[0m plt\u001b[38;5;241m.\u001b[39mtitle(\u001b[38;5;124m'\u001b[39m\u001b[38;5;124mHistograma de valores nulos según la columna\u001b[39m\u001b[38;5;124m'\u001b[39m)\n\u001b[1;32m      5\u001b[0m plt\u001b[38;5;241m.\u001b[39mxlabel(\u001b[38;5;124m'\u001b[39m\u001b[38;5;124mColumnas\u001b[39m\u001b[38;5;124m'\u001b[39m)\n",
      "File \u001b[0;32m~/opt/anaconda3/lib/python3.9/site-packages/matplotlib/pyplot.py:2387\u001b[0m, in \u001b[0;36mbar\u001b[0;34m(x, height, width, bottom, align, data, **kwargs)\u001b[0m\n\u001b[1;32m   2383\u001b[0m \u001b[38;5;129m@_copy_docstring_and_deprecators\u001b[39m(Axes\u001b[38;5;241m.\u001b[39mbar)\n\u001b[1;32m   2384\u001b[0m \u001b[38;5;28;01mdef\u001b[39;00m \u001b[38;5;21mbar\u001b[39m(\n\u001b[1;32m   2385\u001b[0m         x, height, width\u001b[38;5;241m=\u001b[39m\u001b[38;5;241m0.8\u001b[39m, bottom\u001b[38;5;241m=\u001b[39m\u001b[38;5;28;01mNone\u001b[39;00m, \u001b[38;5;241m*\u001b[39m, align\u001b[38;5;241m=\u001b[39m\u001b[38;5;124m'\u001b[39m\u001b[38;5;124mcenter\u001b[39m\u001b[38;5;124m'\u001b[39m,\n\u001b[1;32m   2386\u001b[0m         data\u001b[38;5;241m=\u001b[39m\u001b[38;5;28;01mNone\u001b[39;00m, \u001b[38;5;241m*\u001b[39m\u001b[38;5;241m*\u001b[39mkwargs):\n\u001b[0;32m-> 2387\u001b[0m     \u001b[38;5;28;01mreturn\u001b[39;00m \u001b[43mgca\u001b[49m\u001b[43m(\u001b[49m\u001b[43m)\u001b[49m\u001b[38;5;241;43m.\u001b[39;49m\u001b[43mbar\u001b[49m\u001b[43m(\u001b[49m\n\u001b[1;32m   2388\u001b[0m \u001b[43m        \u001b[49m\u001b[43mx\u001b[49m\u001b[43m,\u001b[49m\u001b[43m \u001b[49m\u001b[43mheight\u001b[49m\u001b[43m,\u001b[49m\u001b[43m \u001b[49m\u001b[43mwidth\u001b[49m\u001b[38;5;241;43m=\u001b[39;49m\u001b[43mwidth\u001b[49m\u001b[43m,\u001b[49m\u001b[43m \u001b[49m\u001b[43mbottom\u001b[49m\u001b[38;5;241;43m=\u001b[39;49m\u001b[43mbottom\u001b[49m\u001b[43m,\u001b[49m\u001b[43m \u001b[49m\u001b[43malign\u001b[49m\u001b[38;5;241;43m=\u001b[39;49m\u001b[43malign\u001b[49m\u001b[43m,\u001b[49m\n\u001b[1;32m   2389\u001b[0m \u001b[43m        \u001b[49m\u001b[38;5;241;43m*\u001b[39;49m\u001b[38;5;241;43m*\u001b[39;49m\u001b[43m(\u001b[49m\u001b[43m{\u001b[49m\u001b[38;5;124;43m\"\u001b[39;49m\u001b[38;5;124;43mdata\u001b[39;49m\u001b[38;5;124;43m\"\u001b[39;49m\u001b[43m:\u001b[49m\u001b[43m \u001b[49m\u001b[43mdata\u001b[49m\u001b[43m}\u001b[49m\u001b[43m \u001b[49m\u001b[38;5;28;43;01mif\u001b[39;49;00m\u001b[43m \u001b[49m\u001b[43mdata\u001b[49m\u001b[43m \u001b[49m\u001b[38;5;129;43;01mis\u001b[39;49;00m\u001b[43m \u001b[49m\u001b[38;5;129;43;01mnot\u001b[39;49;00m\u001b[43m \u001b[49m\u001b[38;5;28;43;01mNone\u001b[39;49;00m\u001b[43m \u001b[49m\u001b[38;5;28;43;01melse\u001b[39;49;00m\u001b[43m \u001b[49m\u001b[43m{\u001b[49m\u001b[43m}\u001b[49m\u001b[43m)\u001b[49m\u001b[43m,\u001b[49m\u001b[43m \u001b[49m\u001b[38;5;241;43m*\u001b[39;49m\u001b[38;5;241;43m*\u001b[39;49m\u001b[43mkwargs\u001b[49m\u001b[43m)\u001b[49m\n",
      "File \u001b[0;32m~/opt/anaconda3/lib/python3.9/site-packages/matplotlib/__init__.py:1412\u001b[0m, in \u001b[0;36m_preprocess_data.<locals>.inner\u001b[0;34m(ax, data, *args, **kwargs)\u001b[0m\n\u001b[1;32m   1409\u001b[0m \u001b[38;5;129m@functools\u001b[39m\u001b[38;5;241m.\u001b[39mwraps(func)\n\u001b[1;32m   1410\u001b[0m \u001b[38;5;28;01mdef\u001b[39;00m \u001b[38;5;21minner\u001b[39m(ax, \u001b[38;5;241m*\u001b[39margs, data\u001b[38;5;241m=\u001b[39m\u001b[38;5;28;01mNone\u001b[39;00m, \u001b[38;5;241m*\u001b[39m\u001b[38;5;241m*\u001b[39mkwargs):\n\u001b[1;32m   1411\u001b[0m     \u001b[38;5;28;01mif\u001b[39;00m data \u001b[38;5;129;01mis\u001b[39;00m \u001b[38;5;28;01mNone\u001b[39;00m:\n\u001b[0;32m-> 1412\u001b[0m         \u001b[38;5;28;01mreturn\u001b[39;00m \u001b[43mfunc\u001b[49m\u001b[43m(\u001b[49m\u001b[43max\u001b[49m\u001b[43m,\u001b[49m\u001b[43m \u001b[49m\u001b[38;5;241;43m*\u001b[39;49m\u001b[38;5;28;43mmap\u001b[39;49m\u001b[43m(\u001b[49m\u001b[43msanitize_sequence\u001b[49m\u001b[43m,\u001b[49m\u001b[43m \u001b[49m\u001b[43margs\u001b[49m\u001b[43m)\u001b[49m\u001b[43m,\u001b[49m\u001b[43m \u001b[49m\u001b[38;5;241;43m*\u001b[39;49m\u001b[38;5;241;43m*\u001b[39;49m\u001b[43mkwargs\u001b[49m\u001b[43m)\u001b[49m\n\u001b[1;32m   1414\u001b[0m     bound \u001b[38;5;241m=\u001b[39m new_sig\u001b[38;5;241m.\u001b[39mbind(ax, \u001b[38;5;241m*\u001b[39margs, \u001b[38;5;241m*\u001b[39m\u001b[38;5;241m*\u001b[39mkwargs)\n\u001b[1;32m   1415\u001b[0m     auto_label \u001b[38;5;241m=\u001b[39m (bound\u001b[38;5;241m.\u001b[39marguments\u001b[38;5;241m.\u001b[39mget(label_namer)\n\u001b[1;32m   1416\u001b[0m                   \u001b[38;5;129;01mor\u001b[39;00m bound\u001b[38;5;241m.\u001b[39mkwargs\u001b[38;5;241m.\u001b[39mget(label_namer))\n",
      "File \u001b[0;32m~/opt/anaconda3/lib/python3.9/site-packages/matplotlib/axes/_axes.py:2342\u001b[0m, in \u001b[0;36mAxes.bar\u001b[0;34m(self, x, height, width, bottom, align, **kwargs)\u001b[0m\n\u001b[1;32m   2339\u001b[0m     \u001b[38;5;28;01mif\u001b[39;00m yerr \u001b[38;5;129;01mis\u001b[39;00m \u001b[38;5;129;01mnot\u001b[39;00m \u001b[38;5;28;01mNone\u001b[39;00m:\n\u001b[1;32m   2340\u001b[0m         yerr \u001b[38;5;241m=\u001b[39m \u001b[38;5;28mself\u001b[39m\u001b[38;5;241m.\u001b[39m_convert_dx(yerr, y0, y, \u001b[38;5;28mself\u001b[39m\u001b[38;5;241m.\u001b[39mconvert_yunits)\n\u001b[0;32m-> 2342\u001b[0m x, height, width, y, linewidth, hatch \u001b[38;5;241m=\u001b[39m \u001b[43mnp\u001b[49m\u001b[38;5;241;43m.\u001b[39;49m\u001b[43mbroadcast_arrays\u001b[49m\u001b[43m(\u001b[49m\n\u001b[1;32m   2343\u001b[0m \u001b[43m    \u001b[49m\u001b[38;5;66;43;03m# Make args iterable too.\u001b[39;49;00m\n\u001b[1;32m   2344\u001b[0m \u001b[43m    \u001b[49m\u001b[43mnp\u001b[49m\u001b[38;5;241;43m.\u001b[39;49m\u001b[43matleast_1d\u001b[49m\u001b[43m(\u001b[49m\u001b[43mx\u001b[49m\u001b[43m)\u001b[49m\u001b[43m,\u001b[49m\u001b[43m \u001b[49m\u001b[43mheight\u001b[49m\u001b[43m,\u001b[49m\u001b[43m \u001b[49m\u001b[43mwidth\u001b[49m\u001b[43m,\u001b[49m\u001b[43m \u001b[49m\u001b[43my\u001b[49m\u001b[43m,\u001b[49m\u001b[43m \u001b[49m\u001b[43mlinewidth\u001b[49m\u001b[43m,\u001b[49m\u001b[43m \u001b[49m\u001b[43mhatch\u001b[49m\u001b[43m)\u001b[49m\n\u001b[1;32m   2346\u001b[0m \u001b[38;5;66;03m# Now that units have been converted, set the tick locations.\u001b[39;00m\n\u001b[1;32m   2347\u001b[0m \u001b[38;5;28;01mif\u001b[39;00m orientation \u001b[38;5;241m==\u001b[39m \u001b[38;5;124m'\u001b[39m\u001b[38;5;124mvertical\u001b[39m\u001b[38;5;124m'\u001b[39m:\n",
      "File \u001b[0;32m<__array_function__ internals>:5\u001b[0m, in \u001b[0;36mbroadcast_arrays\u001b[0;34m(*args, **kwargs)\u001b[0m\n",
      "File \u001b[0;32m~/opt/anaconda3/lib/python3.9/site-packages/numpy/lib/stride_tricks.py:538\u001b[0m, in \u001b[0;36mbroadcast_arrays\u001b[0;34m(subok, *args)\u001b[0m\n\u001b[1;32m    531\u001b[0m \u001b[38;5;66;03m# nditer is not used here to avoid the limit of 32 arrays.\u001b[39;00m\n\u001b[1;32m    532\u001b[0m \u001b[38;5;66;03m# Otherwise, something like the following one-liner would suffice:\u001b[39;00m\n\u001b[1;32m    533\u001b[0m \u001b[38;5;66;03m# return np.nditer(args, flags=['multi_index', 'zerosize_ok'],\u001b[39;00m\n\u001b[1;32m    534\u001b[0m \u001b[38;5;66;03m#                  order='C').itviews\u001b[39;00m\n\u001b[1;32m    536\u001b[0m args \u001b[38;5;241m=\u001b[39m [np\u001b[38;5;241m.\u001b[39marray(_m, copy\u001b[38;5;241m=\u001b[39m\u001b[38;5;28;01mFalse\u001b[39;00m, subok\u001b[38;5;241m=\u001b[39msubok) \u001b[38;5;28;01mfor\u001b[39;00m _m \u001b[38;5;129;01min\u001b[39;00m args]\n\u001b[0;32m--> 538\u001b[0m shape \u001b[38;5;241m=\u001b[39m \u001b[43m_broadcast_shape\u001b[49m\u001b[43m(\u001b[49m\u001b[38;5;241;43m*\u001b[39;49m\u001b[43margs\u001b[49m\u001b[43m)\u001b[49m\n\u001b[1;32m    540\u001b[0m \u001b[38;5;28;01mif\u001b[39;00m \u001b[38;5;28mall\u001b[39m(array\u001b[38;5;241m.\u001b[39mshape \u001b[38;5;241m==\u001b[39m shape \u001b[38;5;28;01mfor\u001b[39;00m array \u001b[38;5;129;01min\u001b[39;00m args):\n\u001b[1;32m    541\u001b[0m     \u001b[38;5;66;03m# Common case where nothing needs to be broadcasted.\u001b[39;00m\n\u001b[1;32m    542\u001b[0m     \u001b[38;5;28;01mreturn\u001b[39;00m args\n",
      "File \u001b[0;32m~/opt/anaconda3/lib/python3.9/site-packages/numpy/lib/stride_tricks.py:420\u001b[0m, in \u001b[0;36m_broadcast_shape\u001b[0;34m(*args)\u001b[0m\n\u001b[1;32m    415\u001b[0m \u001b[38;5;124;03m\"\"\"Returns the shape of the arrays that would result from broadcasting the\u001b[39;00m\n\u001b[1;32m    416\u001b[0m \u001b[38;5;124;03msupplied arrays against each other.\u001b[39;00m\n\u001b[1;32m    417\u001b[0m \u001b[38;5;124;03m\"\"\"\u001b[39;00m\n\u001b[1;32m    418\u001b[0m \u001b[38;5;66;03m# use the old-iterator because np.nditer does not handle size 0 arrays\u001b[39;00m\n\u001b[1;32m    419\u001b[0m \u001b[38;5;66;03m# consistently\u001b[39;00m\n\u001b[0;32m--> 420\u001b[0m b \u001b[38;5;241m=\u001b[39m \u001b[43mnp\u001b[49m\u001b[38;5;241;43m.\u001b[39;49m\u001b[43mbroadcast\u001b[49m\u001b[43m(\u001b[49m\u001b[38;5;241;43m*\u001b[39;49m\u001b[43margs\u001b[49m\u001b[43m[\u001b[49m\u001b[43m:\u001b[49m\u001b[38;5;241;43m32\u001b[39;49m\u001b[43m]\u001b[49m\u001b[43m)\u001b[49m\n\u001b[1;32m    421\u001b[0m \u001b[38;5;66;03m# unfortunately, it cannot handle 32 or more arguments directly\u001b[39;00m\n\u001b[1;32m    422\u001b[0m \u001b[38;5;28;01mfor\u001b[39;00m pos \u001b[38;5;129;01min\u001b[39;00m \u001b[38;5;28mrange\u001b[39m(\u001b[38;5;241m32\u001b[39m, \u001b[38;5;28mlen\u001b[39m(args), \u001b[38;5;241m31\u001b[39m):\n\u001b[1;32m    423\u001b[0m     \u001b[38;5;66;03m# ironically, np.broadcast does not properly handle np.broadcast\u001b[39;00m\n\u001b[1;32m    424\u001b[0m     \u001b[38;5;66;03m# objects (it treats them as scalars)\u001b[39;00m\n\u001b[1;32m    425\u001b[0m     \u001b[38;5;66;03m# use broadcasting to avoid allocating the full array\u001b[39;00m\n",
      "\u001b[0;31mValueError\u001b[0m: shape mismatch: objects cannot be broadcast to a single shape"
     ]
    },
    {
     "data": {
      "image/png": "[encoded data removed]",
      "text/plain": [
       "<Figure size 432x288 with 1 Axes>"
      ]
     },
     "metadata": {
      "needs_background": "light"
     },
     "output_type": "display_data"
    }
   ],
   "source": [
    "from matplotlib import pyplot as plt\n",
    "ejex=data['Species'].value(count)\n",
    "histogram_na = plt.bar(x=ejex, height=diccna.values())\n",
    "plt.title('Histograma de valores nulos según la columna')\n",
    "plt.xlabel('Columnas')\n",
    "plt.ylabel('Frecuencia')\n",
    "plt.show();"
   ]
  },
  {
   "cell_type": "code",
   "execution_count": 43,
   "id": "987fc0b5",
   "metadata": {},
   "outputs": [
    {
     "data": {
      "text/plain": [
       "66.87938736439055"
      ]
     },
     "execution_count": 43,
     "metadata": {},
     "output_type": "execute_result"
    }
   ],
   "source": [
    "total=5334\n",
    "unknown=3767\n",
    "total_con_especie= total-unknown\n",
    "suma_3_primeros=607+271+170\n",
    "#Ver el % de los casos que han sido por los tres primeros:\n",
    "(suma_3_primeros/total_con_especie)*100"
   ]
  },
  {
   "cell_type": "markdown",
   "id": "27ad4ff7",
   "metadata": {},
   "source": [
    "#### Total con nombre de especie=1567\n",
    "#### Total 3 primeros= 1048"
   ]
  },
  {
   "cell_type": "markdown",
   "id": "22fb6bf6",
   "metadata": {},
   "source": [
    "### Vemos que el mayor número de ataques es por tiburón blanco seguido del tiburón tigre y luego el tiburón toro. La suma de los ataques de esas tres especies representan el 67% de los casos de ataques."
   ]
  },
  {
   "cell_type": "markdown",
   "id": "dafe2a68",
   "metadata": {},
   "source": [
    "## Ver el % de casos de ataques que han resultado mortales. "
   ]
  },
  {
   "cell_type": "code",
   "execution_count": 44,
   "id": "867f7cbb",
   "metadata": {},
   "outputs": [
    {
     "data": {
      "text/plain": [
       "N          3894\n",
       "Y          1054\n",
       "unknown     362\n",
       "Unknown      24\n",
       "Name: Fatal(Y/N), dtype: int64"
      ]
     },
     "execution_count": 44,
     "metadata": {},
     "output_type": "execute_result"
    }
   ],
   "source": [
    "data['Fatal(Y/N)'].value_counts()\n"
   ]
  },
  {
   "cell_type": "code",
   "execution_count": 45,
   "id": "87f1ff6d",
   "metadata": {},
   "outputs": [],
   "source": [
    "data['Fatal(Y/N)'].replace('unknown','Unknown',inplace = True)"
   ]
  },
  {
   "cell_type": "code",
   "execution_count": 46,
   "id": "f70b3c10",
   "metadata": {},
   "outputs": [
    {
     "data": {
      "text/plain": [
       "N          3894\n",
       "Y          1054\n",
       "Unknown     386\n",
       "Name: Fatal(Y/N), dtype: int64"
      ]
     },
     "execution_count": 46,
     "metadata": {},
     "output_type": "execute_result"
    }
   ],
   "source": [
    "data['Fatal(Y/N)'].value_counts()"
   ]
  },
  {
   "cell_type": "code",
   "execution_count": 47,
   "id": "95322b06",
   "metadata": {},
   "outputs": [
    {
     "data": {
      "text/plain": [
       "21.30153597413096"
      ]
     },
     "execution_count": 47,
     "metadata": {},
     "output_type": "execute_result"
    }
   ],
   "source": [
    "total= 3894+1054\n",
    "fatales=(1054/total)*100\n",
    "fatales"
   ]
  },
  {
   "cell_type": "code",
   "execution_count": 48,
   "id": "b90ca090",
   "metadata": {},
   "outputs": [
    {
     "data": {
      "text/plain": [
       "78.69846402586904"
      ]
     },
     "execution_count": 48,
     "metadata": {},
     "output_type": "execute_result"
    }
   ],
   "source": [
    "salvades=100-fatales\n",
    "salvades"
   ]
  },
  {
   "cell_type": "markdown",
   "id": "d48e563d",
   "metadata": {},
   "source": [
    "## El porcentaje de ataques que han resultado fatales es el 21%"
   ]
  },
  {
   "cell_type": "markdown",
   "id": "d329d6cd",
   "metadata": {},
   "source": [
    "## Ahora vamos a relacionar la columna del tipo de ataque y la de muertes.\n",
    "### Para poder ver si existe correlación vamos a crear un nuevo data set dandole valores numéricos a los tipos y al hecho de si ha resultado fatal o no.\n",
    "\n",
    "#### Fatal=0, Salvada=1, \n",
    "#### Respecto a los tipos:\n",
    "       #### Unprovoked=0     \n",
    "       #### Provoked=1        \n",
    "       #### Unknown=2         \n",
    "       #### Boating=3          \n",
    "       #### Sea Disaster=4"
   ]
  },
  {
   "cell_type": "code",
   "execution_count": 49,
   "id": "c6030e8b",
   "metadata": {},
   "outputs": [],
   "source": [
    "\n",
    "fatal_values=[]\n",
    "for i in data['Fatal(Y/N)'].tolist():\n",
    "    if i=='Y':\n",
    "        fatal_values.append(0)\n",
    "    elif i=='N':\n",
    "        fatal_values.append(1)\n",
    "    else:\n",
    "        fatal_values.append(None)\n",
    "    \n"
   ]
  },
  {
   "cell_type": "code",
   "execution_count": 50,
   "id": "1702f87a",
   "metadata": {},
   "outputs": [],
   "source": [
    "data_analisis=pd.DataFrame(fatal_values)"
   ]
  },
  {
   "cell_type": "code",
   "execution_count": 51,
   "id": "572db30b",
   "metadata": {},
   "outputs": [
    {
     "data": {
      "text/plain": [
       "5334"
      ]
     },
     "execution_count": 51,
     "metadata": {},
     "output_type": "execute_result"
    }
   ],
   "source": [
    "len(data_analisis)"
   ]
  },
  {
   "cell_type": "code",
   "execution_count": 52,
   "id": "c4003bd3",
   "metadata": {},
   "outputs": [],
   "source": [
    "lista_tipos=data['Type'].tolist()\n",
    "lista_tipos\n",
    "tipo_values=[]\n",
    "for i in lista_tipos:\n",
    "    if i=='Unprovoked':\n",
    "        tipo_values.append(0)\n",
    "    elif i=='Provoked':\n",
    "        tipo_values.append(1)\n",
    "    elif i=='Unknown':\n",
    "        tipo_values.append(2)\n",
    "    elif i=='Boating':\n",
    "        tipo_values.append(3)\n",
    "    else:\n",
    "        tipo_values.append(4)\n"
   ]
  },
  {
   "cell_type": "code",
   "execution_count": 53,
   "id": "6cb6e355",
   "metadata": {},
   "outputs": [],
   "source": [
    "#Añadirlo al dataset nuevo\n",
    "\n",
    "data_analisis['Type']=tipo_values\n",
    "data_analisis.rename({0:'Fatal'},axis=1, inplace=True)\n",
    "#data_analisis\n"
   ]
  },
  {
   "cell_type": "code",
   "execution_count": 54,
   "id": "77cf04e8",
   "metadata": {},
   "outputs": [
    {
     "data": {
      "text/plain": [
       "0.02096313160490206"
      ]
     },
     "execution_count": 54,
     "metadata": {},
     "output_type": "execute_result"
    }
   ],
   "source": [
    "#Ver si hay correlación entre el tipo de ataques y si han resultado fatales o no.\n",
    "data_analisis['Fatal'].corr(data_analisis['Type'])"
   ]
  },
  {
   "cell_type": "markdown",
   "id": "9b9c8ba3",
   "metadata": {},
   "source": [
    "#### Vemos que el % de correlación es muy bajo así que podemos conluír (a falta de una prueba de error) que no tienen correlación el tipo de ataque y las muertes.\n",
    "\n",
    "##### Quizás este análisis no tiene ningún tipo de rigor científico pero este trabajo es de limpieza de una base de datos y análisis básicos de estos. "
   ]
  },
  {
   "cell_type": "markdown",
   "id": "9e11c49e",
   "metadata": {},
   "source": [
    "## Se crea una duda de ver el rango de años en los que ha ocurrido estos ataques. "
   ]
  },
  {
   "cell_type": "markdown",
   "id": "9577dc2e",
   "metadata": {},
   "source": [
    "### Teniendo en cuenta que los registros comenzaron en el 1721 y terminaron en el 2018, esta tabla recopila los datos de hace 297 años. Hay 25723 filas."
   ]
  },
  {
   "cell_type": "code",
   "execution_count": 55,
   "id": "ea099597",
   "metadata": {},
   "outputs": [
    {
     "data": {
      "text/plain": [
       "297"
      ]
     },
     "execution_count": 55,
     "metadata": {},
     "output_type": "execute_result"
    }
   ],
   "source": [
    "#Años del registro\n",
    "2018- 1721"
   ]
  },
  {
   "cell_type": "code",
   "execution_count": 56,
   "id": "47c4ae45",
   "metadata": {},
   "outputs": [
    {
     "data": {
      "text/plain": [
       "25723"
      ]
     },
     "execution_count": 56,
     "metadata": {},
     "output_type": "execute_result"
    }
   ],
   "source": [
    "len(data_ori['Case Number'])"
   ]
  },
  {
   "cell_type": "markdown",
   "id": "b2ce69e9",
   "metadata": {},
   "source": [
    "### En 297 años ha habido 25723 ataques."
   ]
  },
  {
   "cell_type": "code",
   "execution_count": 57,
   "id": "5bc45cb5",
   "metadata": {},
   "outputs": [
    {
     "data": {
      "text/plain": [
       "86.60942760942761"
      ]
     },
     "execution_count": 57,
     "metadata": {},
     "output_type": "execute_result"
    }
   ],
   "source": [
    "25723/297"
   ]
  },
  {
   "cell_type": "markdown",
   "id": "7e355f28",
   "metadata": {},
   "source": [
    "### 87 casos al año de los cuales el 21% han resultado fatales."
   ]
  },
  {
   "cell_type": "code",
   "execution_count": 58,
   "id": "14e3ab23",
   "metadata": {},
   "outputs": [
    {
     "data": {
      "text/plain": [
       "18.27"
      ]
     },
     "execution_count": 58,
     "metadata": {},
     "output_type": "execute_result"
    }
   ],
   "source": [
    "87*0.21"
   ]
  },
  {
   "cell_type": "markdown",
   "id": "99651dd9",
   "metadata": {},
   "source": [
    "### 18 ataques mortales al año por parte de tiburones. "
   ]
  },
  {
   "cell_type": "markdown",
   "id": "a1c166cd",
   "metadata": {},
   "source": [
    "# CONCLUSIONES"
   ]
  },
  {
   "cell_type": "markdown",
   "id": "54106390",
   "metadata": {},
   "source": [
    "## Tras visualizar y analizar varias variables relacionadas con los ataques de diferentes tiburones podemos concluír que el 21% de los ataques resultan mortales, siendo estos 18 al año.\n",
    "\n",
    "## Además hemos visto que la mayoría de todos los ataques es por la especie de tiburon blanco seguidos que por el tiburón tigre y luego el tiburón toro. \n",
    "\n",
    "## También hemos visto que el motivo mayoritario de los ataques son de tipo provocado.\n",
    "\n",
    "## Esto nos hace caer en la conclusión de que el tiburón quizás no sea tan peligroso como nos han hecho ver. La fama que tiene el tiburón posiblemente se debe a que durante muchos años se han hecho películas de ataques mortales a tiburones, documentales de mordidas, y siempre que vemos imágenes en la tele de tiburones es con una música escalofriante de fondo.\n",
    "\n",
    "## Sin embargo, por poner un ejemplo, la OMS advierte de entre 10.000 y 20.000 muertes al año (versus las 18 por tiburón) por estar en contacto con una especie de caracol de agua dulce, que puede portar un parásito que produce esquistosomiasis, una enfermedad mortal. Quizás el tiburón no es ahora tan peligroso como pensábamos.\n",
    "\n",
    "\n",
    "\n",
    "\n"
   ]
  },
  {
   "cell_type": "code",
   "execution_count": 60,
   "id": "31766bc2",
   "metadata": {},
   "outputs": [],
   "source": [
    "#Export to csv\n",
    "data.to_csv('data_limpio.csv')"
   ]
  },
  {
   "cell_type": "code",
   "execution_count": null,
   "id": "0bb092f7",
   "metadata": {},
   "outputs": [],
   "source": []
  }
 ],
 "metadata": {
  "kernelspec": {
   "display_name": "Python 3 (ipykernel)",
   "language": "python",
   "name": "python3"
  },
  "language_info": {
   "codemirror_mode": {
    "name": "ipython",
    "version": 3
   },
   "file_extension": ".py",
   "mimetype": "text/x-python",
   "name": "python",
   "nbconvert_exporter": "python",
   "pygments_lexer": "ipython3",
   "version": "3.9.12"
  }
 },
 "nbformat": 4,
 "nbformat_minor": 5
}
